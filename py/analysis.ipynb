{
 "cells": [
  {
   "cell_type": "code",
   "execution_count": 1,
   "metadata": {},
   "outputs": [],
   "source": [
    "import pandas as pd\n",
    "pd.options.mode.chained_assignment = None # Get rid of annoying warning\n",
    "import numpy as np\n",
    "import os"
   ]
  },
  {
   "cell_type": "code",
   "execution_count": 2,
   "metadata": {},
   "outputs": [],
   "source": [
    "df = pd.read_csv('/home/rishi/research/magat_pathplanning/Data/Results_best/AnimeDemo/dcpOEGAT/map32x32_rho1_50Agent/K2_HS0/TR_M20p1_10Agent/1602191363/Project_G/exp_multinorm/commR_7/output.csv')"
   ]
  },
  {
   "cell_type": "code",
   "execution_count": 3,
   "metadata": {},
   "outputs": [],
   "source": [
    "df2 = df[df[\"magatCost\"] != \"magatCost\"]\n",
    "df2.reset_index(drop=True, inplace=True)"
   ]
  },
  {
   "cell_type": "code",
   "execution_count": 4,
   "metadata": {},
   "outputs": [
    {
     "data": {
      "text/html": [
       "<div>\n",
       "<style scoped>\n",
       "    .dataframe tbody tr th:only-of-type {\n",
       "        vertical-align: middle;\n",
       "    }\n",
       "\n",
       "    .dataframe tbody tr th {\n",
       "        vertical-align: top;\n",
       "    }\n",
       "\n",
       "    .dataframe thead th {\n",
       "        text-align: right;\n",
       "    }\n",
       "</style>\n",
       "<table border=\"1\" class=\"dataframe\">\n",
       "  <thead>\n",
       "    <tr style=\"text-align: right;\">\n",
       "      <th></th>\n",
       "      <th>magatCost</th>\n",
       "      <th>magatMakespan</th>\n",
       "      <th>magatSucceed</th>\n",
       "      <th>ECBSCost</th>\n",
       "      <th>ECBSMakespan</th>\n",
       "    </tr>\n",
       "  </thead>\n",
       "  <tbody>\n",
       "    <tr>\n",
       "      <th>0</th>\n",
       "      <td>1319</td>\n",
       "      <td>161</td>\n",
       "      <td>0</td>\n",
       "      <td>1122</td>\n",
       "      <td>53</td>\n",
       "    </tr>\n",
       "    <tr>\n",
       "      <th>1</th>\n",
       "      <td>1175</td>\n",
       "      <td>47</td>\n",
       "      <td>1</td>\n",
       "      <td>1085</td>\n",
       "      <td>47</td>\n",
       "    </tr>\n",
       "    <tr>\n",
       "      <th>2</th>\n",
       "      <td>1286</td>\n",
       "      <td>47</td>\n",
       "      <td>1</td>\n",
       "      <td>1170</td>\n",
       "      <td>47</td>\n",
       "    </tr>\n",
       "    <tr>\n",
       "      <th>3</th>\n",
       "      <td>1352</td>\n",
       "      <td>143</td>\n",
       "      <td>0</td>\n",
       "      <td>1088</td>\n",
       "      <td>47</td>\n",
       "    </tr>\n",
       "    <tr>\n",
       "      <th>4</th>\n",
       "      <td>1362</td>\n",
       "      <td>49</td>\n",
       "      <td>1</td>\n",
       "      <td>1188</td>\n",
       "      <td>48</td>\n",
       "    </tr>\n",
       "  </tbody>\n",
       "</table>\n",
       "</div>"
      ],
      "text/plain": [
       "  magatCost magatMakespan magatSucceed ECBSCost ECBSMakespan\n",
       "0      1319           161            0     1122           53\n",
       "1      1175            47            1     1085           47\n",
       "2      1286            47            1     1170           47\n",
       "3      1352           143            0     1088           47\n",
       "4      1362            49            1     1188           48"
      ]
     },
     "execution_count": 4,
     "metadata": {},
     "output_type": "execute_result"
    }
   ],
   "source": [
    "df2.head()"
   ]
  },
  {
   "cell_type": "code",
   "execution_count": 5,
   "metadata": {},
   "outputs": [],
   "source": [
    "df2[\"seed\"] = (df2.index//25+1)"
   ]
  },
  {
   "cell_type": "code",
   "execution_count": 6,
   "metadata": {},
   "outputs": [],
   "source": [
    "def cleanRawDf(df):\n",
    "    df2 = df[df[\"magatCost\"] != \"magatCost\"]\n",
    "    df2.reset_index(drop=True, inplace=True)\n",
    "    df2[\"seed\"] = (df2.index//25+1)\n",
    "    df2[\"scen\"] = df2.index%25+1\n",
    "    return df2"
   ]
  },
  {
   "cell_type": "code",
   "execution_count": 7,
   "metadata": {},
   "outputs": [
    {
     "name": "stdout",
     "output_type": "stream",
     "text": [
      "50 (125, 8)\n",
      "100 (125, 8)\n",
      "150 (125, 8)\n"
     ]
    }
   ],
   "source": [
    "dataPath = \"/home/rishi/research/magat_pathplanning/Data/Results_best/AnimeDemo/dcpOEGAT\"\n",
    "# Iterate through all the folders in the directory\n",
    "numToFilePath = lambda x : \"/home/rishi/research/magat_pathplanning/Data/Results_best/AnimeDemo/dcpOEGAT/\\\n",
    "map32x32_rho1_{}Agent/K2_HS0/TR_M20p1_10Agent/1602191363/Project_G/exp_multinorm/commR_7/output.csv\".format(x)\n",
    "# for folder in os.listdir(dataPath):\n",
    "#     df = pd.read_csv(\"{}/{}/output.csv\".format(dataPath, folder))\n",
    "#     # df = df[df[\"magatCost\"] != \"magatCost\"]\n",
    "#     # df = cleanRawDf(df)\n",
    "#     print(folder)\n",
    "\n",
    "allDfs = []\n",
    "for x in range(50, 151, 50):\n",
    "    if x == 250:\n",
    "        continue\n",
    "    # print(numToFilePath(x))\n",
    "    df = pd.read_csv(numToFilePath(x))\n",
    "    df = cleanRawDf(df)\n",
    "    df[\"agents\"] = x\n",
    "    allDfs.append(df)\n",
    "    print(x, df.shape)\n",
    "    # print(df.head())\n",
    "\n",
    "newDf = pd.concat(allDfs)\n",
    "newDf[\"map_file\"] = \"random-32-32-10.map\"\n",
    "def scenName(row):\n",
    "    return \"scripts/scen/scen-random/random-32-32-10-random-{}.scen\".format(row[\"scen\"])\n",
    "newDf[\"scen_name\"] = newDf.apply(scenName, axis=1)\n",
    "newDf.to_csv(\"{}/allData2.csv\".format(dataPath), index=False)"
   ]
  },
  {
   "cell_type": "code",
   "execution_count": 24,
   "metadata": {},
   "outputs": [
    {
     "data": {
      "text/plain": [
       "(625, 6)"
      ]
     },
     "execution_count": 24,
     "metadata": {},
     "output_type": "execute_result"
    }
   ],
   "source": []
  },
  {
   "cell_type": "code",
   "execution_count": null,
   "metadata": {},
   "outputs": [],
   "source": []
  }
 ],
 "metadata": {
  "kernelspec": {
   "display_name": "pytorchfun",
   "language": "python",
   "name": "python3"
  },
  "language_info": {
   "codemirror_mode": {
    "name": "ipython",
    "version": 3
   },
   "file_extension": ".py",
   "mimetype": "text/x-python",
   "name": "python",
   "nbconvert_exporter": "python",
   "pygments_lexer": "ipython3",
   "version": "3.11.5"
  }
 },
 "nbformat": 4,
 "nbformat_minor": 2
}
